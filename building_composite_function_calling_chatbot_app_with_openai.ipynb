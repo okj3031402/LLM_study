{
  "cells": [
    {
      "cell_type": "markdown",
      "metadata": {
        "id": "view-in-github",
        "colab_type": "text"
      },
      "source": [
        "<a href=\"https://colab.research.google.com/github/okj3031402/LLM_study/blob/main/building_composite_function_calling_chatbot_app_with_openai.ipynb\" target=\"_parent\"><img src=\"https://colab.research.google.com/assets/colab-badge.svg\" alt=\"Open In Colab\"/></a>"
      ]
    },
    {
      "cell_type": "code",
      "execution_count": null,
      "metadata": {
        "colab": {
          "base_uri": "https://localhost:8080/"
        },
        "id": "K4D8RN2U0F4x",
        "outputId": "25d5794d-ac4f-48a9-bbdf-b038771a66ff"
      },
      "outputs": [
        {
          "output_type": "stream",
          "name": "stdout",
          "text": [
            "Collecting openai==0.28\n",
            "  Downloading openai-0.28.0-py3-none-any.whl (76 kB)\n",
            "\u001b[?25l     \u001b[90m━━━━━━━━━━━━━━━━━━━━━━━━━━━━━━━━━━━━━━━━\u001b[0m \u001b[32m0.0/76.5 kB\u001b[0m \u001b[31m?\u001b[0m eta \u001b[36m-:--:--\u001b[0m\r\u001b[2K     \u001b[91m━━━━━━━━━━━━━━━━━━━━━━━━━━━━━━━━━━━━━\u001b[0m\u001b[90m╺\u001b[0m\u001b[90m━━\u001b[0m \u001b[32m71.7/76.5 kB\u001b[0m \u001b[31m3.2 MB/s\u001b[0m eta \u001b[36m0:00:01\u001b[0m\r\u001b[2K     \u001b[90m━━━━━━━━━━━━━━━━━━━━━━━━━━━━━━━━━━━━━━━━\u001b[0m \u001b[32m76.5/76.5 kB\u001b[0m \u001b[31m1.7 MB/s\u001b[0m eta \u001b[36m0:00:00\u001b[0m\n",
            "\u001b[?25hRequirement already satisfied: requests>=2.20 in /usr/local/lib/python3.10/dist-packages (from openai==0.28) (2.31.0)\n",
            "Requirement already satisfied: tqdm in /usr/local/lib/python3.10/dist-packages (from openai==0.28) (4.66.4)\n",
            "Requirement already satisfied: aiohttp in /usr/local/lib/python3.10/dist-packages (from openai==0.28) (3.9.5)\n",
            "Requirement already satisfied: charset-normalizer<4,>=2 in /usr/local/lib/python3.10/dist-packages (from requests>=2.20->openai==0.28) (3.3.2)\n",
            "Requirement already satisfied: idna<4,>=2.5 in /usr/local/lib/python3.10/dist-packages (from requests>=2.20->openai==0.28) (3.7)\n",
            "Requirement already satisfied: urllib3<3,>=1.21.1 in /usr/local/lib/python3.10/dist-packages (from requests>=2.20->openai==0.28) (2.0.7)\n",
            "Requirement already satisfied: certifi>=2017.4.17 in /usr/local/lib/python3.10/dist-packages (from requests>=2.20->openai==0.28) (2024.2.2)\n",
            "Requirement already satisfied: aiosignal>=1.1.2 in /usr/local/lib/python3.10/dist-packages (from aiohttp->openai==0.28) (1.3.1)\n",
            "Requirement already satisfied: attrs>=17.3.0 in /usr/local/lib/python3.10/dist-packages (from aiohttp->openai==0.28) (23.2.0)\n",
            "Requirement already satisfied: frozenlist>=1.1.1 in /usr/local/lib/python3.10/dist-packages (from aiohttp->openai==0.28) (1.4.1)\n",
            "Requirement already satisfied: multidict<7.0,>=4.5 in /usr/local/lib/python3.10/dist-packages (from aiohttp->openai==0.28) (6.0.5)\n",
            "Requirement already satisfied: yarl<2.0,>=1.0 in /usr/local/lib/python3.10/dist-packages (from aiohttp->openai==0.28) (1.9.4)\n",
            "Requirement already satisfied: async-timeout<5.0,>=4.0 in /usr/local/lib/python3.10/dist-packages (from aiohttp->openai==0.28) (4.0.3)\n",
            "Installing collected packages: openai\n",
            "Successfully installed openai-0.28.0\n"
          ]
        }
      ],
      "source": [
        "!pip install openai==0.28 # openai 라이브러리를 설치합니다."
      ]
    },
    {
      "cell_type": "code",
      "execution_count": null,
      "metadata": {
        "id": "vf_9nvKw0Hci"
      },
      "outputs": [],
      "source": [
        "import openai\n",
        "from google.colab import userdata\n",
        "\n",
        "openai.api_key = userdata.get('OPENAI_API_KEY')"
      ]
    },
    {
      "cell_type": "code",
      "source": [
        "import requests\n",
        "import json\n",
        "\n",
        "def get_current_location():\n",
        "    response = requests.get('https://ipinfo.io')\n",
        "    info = response.json()\n",
        "    return json.dumps(info)"
      ],
      "metadata": {
        "id": "KEQ4nAiUmaFY"
      },
      "execution_count": null,
      "outputs": []
    },
    {
      "cell_type": "code",
      "source": [
        "import requests\n",
        "\n",
        "def get_current_weather(latitude, longitude):\n",
        "\n",
        "    # Define the base URL for the Open-Meteo API\n",
        "    base_url = \"https://api.open-meteo.com/v1/forecast\"\n",
        "\n",
        "    # Specify your parameters (in this case, for Berlin, Germany)\n",
        "    params = {\n",
        "        \"latitude\": latitude,   # Example latitude\n",
        "        \"longitude\": longitude,  # Example longitude\n",
        "        \"current_weather\": True, # To get current weather\n",
        "        \"daily\": \"temperature_2m_max,temperature_2m_min\", # For daily max/min temperatures\n",
        "        \"timezone\": \"auto\" # Automatically determine the timezone\n",
        "    }\n",
        "\n",
        "    # Make the GET request\n",
        "    response = requests.get(base_url, params=params)\n",
        "\n",
        "    info = {}\n",
        "    # Check if the request was successful\n",
        "    if response.status_code == 200:\n",
        "        info = response.json()\n",
        "\n",
        "    return json.dumps(info)"
      ],
      "metadata": {
        "id": "-hb6kkuRo3a6"
      },
      "execution_count": null,
      "outputs": []
    },
    {
      "cell_type": "code",
      "source": [
        "!pip install yfinance\n",
        "\n",
        "import yfinance as yf\n",
        "import json\n",
        "\n",
        "def get_stock_price_info(stock_symbol):\n",
        "    # yfinance를 사용하여 주식 정보 로드\n",
        "\n",
        "    print(stock_symbol)\n",
        "\n",
        "    stock = yf.Ticker(stock_symbol)\n",
        "\n",
        "    # 주식의 현재 정보 가져오기\n",
        "    info = stock.info\n",
        "\n",
        "    # 관심 있는 정보를 선택적으로 추출\n",
        "    relevant_info = {\n",
        "        'currentPrice': info.get('currentPrice'),\n",
        "        'previousClose': info.get('previousClose'),\n",
        "        'open': info.get('open'),\n",
        "        'dayHigh': info.get('dayHigh'),\n",
        "        'dayLow': info.get('dayLow'),\n",
        "        'volume': info.get('volume'),\n",
        "        'marketCap': info.get('marketCap')\n",
        "    }\n",
        "\n",
        "    # JSON 형태로 정보 반환\n",
        "    return json.dumps(relevant_info, ensure_ascii=False)\n"
      ],
      "metadata": {
        "colab": {
          "base_uri": "https://localhost:8080/"
        },
        "id": "5beOBd1-ojuY",
        "outputId": "250f17e6-8a29-47d4-e4dc-cd50f072aee2"
      },
      "execution_count": null,
      "outputs": [
        {
          "output_type": "stream",
          "name": "stdout",
          "text": [
            "Requirement already satisfied: yfinance in /usr/local/lib/python3.10/dist-packages (0.2.38)\n",
            "Requirement already satisfied: pandas>=1.3.0 in /usr/local/lib/python3.10/dist-packages (from yfinance) (2.0.3)\n",
            "Requirement already satisfied: numpy>=1.16.5 in /usr/local/lib/python3.10/dist-packages (from yfinance) (1.25.2)\n",
            "Requirement already satisfied: requests>=2.31 in /usr/local/lib/python3.10/dist-packages (from yfinance) (2.31.0)\n",
            "Requirement already satisfied: multitasking>=0.0.7 in /usr/local/lib/python3.10/dist-packages (from yfinance) (0.0.11)\n",
            "Requirement already satisfied: lxml>=4.9.1 in /usr/local/lib/python3.10/dist-packages (from yfinance) (4.9.4)\n",
            "Requirement already satisfied: appdirs>=1.4.4 in /usr/local/lib/python3.10/dist-packages (from yfinance) (1.4.4)\n",
            "Requirement already satisfied: pytz>=2022.5 in /usr/local/lib/python3.10/dist-packages (from yfinance) (2023.4)\n",
            "Requirement already satisfied: frozendict>=2.3.4 in /usr/local/lib/python3.10/dist-packages (from yfinance) (2.4.4)\n",
            "Requirement already satisfied: peewee>=3.16.2 in /usr/local/lib/python3.10/dist-packages (from yfinance) (3.17.5)\n",
            "Requirement already satisfied: beautifulsoup4>=4.11.1 in /usr/local/lib/python3.10/dist-packages (from yfinance) (4.12.3)\n",
            "Requirement already satisfied: html5lib>=1.1 in /usr/local/lib/python3.10/dist-packages (from yfinance) (1.1)\n",
            "Requirement already satisfied: soupsieve>1.2 in /usr/local/lib/python3.10/dist-packages (from beautifulsoup4>=4.11.1->yfinance) (2.5)\n",
            "Requirement already satisfied: six>=1.9 in /usr/local/lib/python3.10/dist-packages (from html5lib>=1.1->yfinance) (1.16.0)\n",
            "Requirement already satisfied: webencodings in /usr/local/lib/python3.10/dist-packages (from html5lib>=1.1->yfinance) (0.5.1)\n",
            "Requirement already satisfied: python-dateutil>=2.8.2 in /usr/local/lib/python3.10/dist-packages (from pandas>=1.3.0->yfinance) (2.8.2)\n",
            "Requirement already satisfied: tzdata>=2022.1 in /usr/local/lib/python3.10/dist-packages (from pandas>=1.3.0->yfinance) (2024.1)\n",
            "Requirement already satisfied: charset-normalizer<4,>=2 in /usr/local/lib/python3.10/dist-packages (from requests>=2.31->yfinance) (3.3.2)\n",
            "Requirement already satisfied: idna<4,>=2.5 in /usr/local/lib/python3.10/dist-packages (from requests>=2.31->yfinance) (3.7)\n",
            "Requirement already satisfied: urllib3<3,>=1.21.1 in /usr/local/lib/python3.10/dist-packages (from requests>=2.31->yfinance) (2.0.7)\n",
            "Requirement already satisfied: certifi>=2017.4.17 in /usr/local/lib/python3.10/dist-packages (from requests>=2.31->yfinance) (2024.2.2)\n"
          ]
        }
      ]
    },
    {
      "cell_type": "code",
      "source": [
        "functions = [\n",
        "    {\n",
        "        \"name\": \"get_current_location\",\n",
        "        \"description\": \"Get the current location like latitude and longitude.\",\n",
        "        \"parameters\": {\n",
        "            \"type\": \"object\",\n",
        "            \"properties\": {},\n",
        "            \"required\": []\n",
        "        }\n",
        "    },\n",
        "    {\n",
        "        \"name\": \"get_current_weather\",\n",
        "        \"description\": \"Get the current weather like temperature and weather type in a given location.\",\n",
        "        \"parameters\": {\n",
        "            \"type\": \"object\",\n",
        "            \"properties\": {\n",
        "                \"latitude\": {\n",
        "                    \"type\": \"string\",\n",
        "                    \"description\": \"latitude\",\n",
        "                },\n",
        "                \"longitude\": {\n",
        "                    \"type\": \"string\",\n",
        "                    \"description\": \"longitude\",\n",
        "                },\n",
        "            },\n",
        "            \"required\": [\"latitude\", \"longitude\"],\n",
        "        }\n",
        "    },\n",
        "    {\n",
        "        \"name\": \"get_stock_price_info\",\n",
        "        \"description\": \"Retrieves the stock price information for a specific stock using Yahoo Finance API. For Korean stocks, append '.KS' for KOSPI listed stocks and '.KQ' for KOSDAQ listed stocks to the stock symbol.\",\n",
        "        \"parameters\": {\n",
        "            \"type\": \"object\",\n",
        "            \"properties\": {\n",
        "                \"stock_symbol\": {\n",
        "                    \"type\": \"string\",\n",
        "                    \"description\": \"The symbol of the stock to retrieve information for. For Korean stocks, use the stock code followed by '.KS' for KOSPI stocks or '.KQ' for KOSDAQ stocks, e.g., '005930.KS' for Samsung Electronics.\"\n",
        "                }\n",
        "            },\n",
        "            \"required\": [\"stock_symbol\"]\n",
        "        }\n",
        "    }\n",
        "]"
      ],
      "metadata": {
        "id": "rkVIMx4kmo1n"
      },
      "execution_count": null,
      "outputs": []
    },
    {
      "cell_type": "code",
      "source": [
        "toolkits = {\n",
        "    \"get_current_location\": get_current_location,\n",
        "    \"get_current_weather\": get_current_weather,\n",
        "    \"get_stock_price_info\": get_stock_price_info,\n",
        "}"
      ],
      "metadata": {
        "id": "GgKg6Mijmt6l"
      },
      "execution_count": null,
      "outputs": []
    },
    {
      "cell_type": "code",
      "execution_count": null,
      "metadata": {
        "id": "19-RZf43KMdE"
      },
      "outputs": [],
      "source": [
        "system_prompt = \"\"\"\n",
        "Act as helpful assistant. Write in Korean.\n",
        "To handle user requests, we determine which function to call first and try to acquire the necessary information from the given list of functions as much as possible.\n",
        "\"\"\"\n",
        "\n",
        "def print_message(message):\n",
        "    print(json.dumps(message, indent=4))\n",
        "    #if message.get(\"function_call\"):\n",
        "    #    print(message['function_call']['name'])\n",
        "\n",
        "def openai_llm(input_text, chat_history):\n",
        "\n",
        "    if len(chat_history) == 0:\n",
        "        chat_history.append({\"role\": \"system\", \"content\": system_prompt})\n",
        "\n",
        "    # input_text : 안녕\n",
        "    chat_history.append({\"role\": \"user\", \"content\": input_text})\n",
        "\n",
        "    while True: # 함수 호출을 더 이상하지 않을 때까지 루프\n",
        "\n",
        "        response = openai.ChatCompletion.create(model=\"gpt-3.5-turbo-0613\",\n",
        "                                                messages=chat_history,\n",
        "                                                functions=functions,\n",
        "                                                function_call=\"auto\")\n",
        "\n",
        "        response_message = response[\"choices\"][0][\"message\"]\n",
        "\n",
        "        # AI의 응답을 추가\n",
        "        chat_history.append(response_message)\n",
        "\n",
        "        print_message(response_message) # 주석처리해도 됩니다.\n",
        "\n",
        "        # function_call의 조건\n",
        "        # 1. 함수 호출을 하지 못할 때, 필요한 인자가 메시지의 리스트에 없을 경우 (편지봉투 내에) > 사용자에게 함수 인자에 대한 정보를 요청\n",
        "        # 2. 함수 호출을 할 필요가 없을 때 > 함수 호출 결과를 요약\n",
        "\n",
        "        # response_message에는 role, content, function_call가 있다.\n",
        "        # function_call 있다면, content = null\n",
        "        # content에 값이 있다면, function_call 키가 존재하지 않는다.\n",
        "        if response_message.get(\"function_call\") == None:\n",
        "            break\n",
        "\n",
        "        # 함수 이름과 인자 값을 얻어온다.\n",
        "        function_name = response_message[\"function_call\"][\"name\"]\n",
        "        function_arguments = json.loads(response_message[\"function_call\"][\"arguments\"])\n",
        "\n",
        "        # 함수를 호출해서, 그 결과를 얻어온다.\n",
        "        function_response = toolkits[function_name](**function_arguments)\n",
        "\n",
        "        function_response_message = {\n",
        "            \"role\": \"function\",\n",
        "            \"name\": function_name,\n",
        "            \"content\": function_response,\n",
        "        }\n",
        "\n",
        "        # 함수 호출 결과를 추가한다.\n",
        "        chat_history.append(function_response_message)\n",
        "\n",
        "        print_message(function_response_message) # 주석처리해도 됩니다.\n",
        "\n",
        "    output = response.choices[0].message.content # function_call 키가 있다면, content는 null이나, function_call 키가 없을 때, break되므로 항상 content가 있다.\n",
        "\n",
        "    return output"
      ]
    },
    {
      "cell_type": "code",
      "source": [
        "print(openai_llm(\"지금 현재 위치 날씨는?\", []))"
      ],
      "metadata": {
        "colab": {
          "base_uri": "https://localhost:8080/"
        },
        "id": "cOr1JLU7Ao-F",
        "outputId": "7c812a32-6b33-4d7f-bd63-3300f1a7cf39"
      },
      "execution_count": null,
      "outputs": [
        {
          "output_type": "stream",
          "name": "stdout",
          "text": [
            "{\n",
            "    \"role\": \"assistant\",\n",
            "    \"content\": null,\n",
            "    \"function_call\": {\n",
            "        \"name\": \"get_current_location\",\n",
            "        \"arguments\": \"{}\"\n",
            "    }\n",
            "}\n",
            "{\n",
            "    \"role\": \"function\",\n",
            "    \"name\": \"get_current_location\",\n",
            "    \"content\": \"{\\\"ip\\\": \\\"34.85.190.148\\\", \\\"hostname\\\": \\\"148.190.85.34.bc.googleusercontent.com\\\", \\\"city\\\": \\\"Washington\\\", \\\"region\\\": \\\"Washington, D.C.\\\", \\\"country\\\": \\\"US\\\", \\\"loc\\\": \\\"38.8951,-77.0364\\\", \\\"org\\\": \\\"AS396982 Google LLC\\\", \\\"postal\\\": \\\"20004\\\", \\\"timezone\\\": \\\"America/New_York\\\", \\\"readme\\\": \\\"https://ipinfo.io/missingauth\\\"}\"\n",
            "}\n",
            "{\n",
            "    \"role\": \"assistant\",\n",
            "    \"content\": null,\n",
            "    \"function_call\": {\n",
            "        \"name\": \"get_current_weather\",\n",
            "        \"arguments\": \"{\\n  \\\"latitude\\\": \\\"38.8951\\\",\\n  \\\"longitude\\\": \\\"-77.0364\\\"\\n}\"\n",
            "    }\n",
            "}\n",
            "{\n",
            "    \"role\": \"function\",\n",
            "    \"name\": \"get_current_weather\",\n",
            "    \"content\": \"{\\\"latitude\\\": 38.890526, \\\"longitude\\\": -77.02716, \\\"generationtime_ms\\\": 0.0699758529663086, \\\"utc_offset_seconds\\\": -14400, \\\"timezone\\\": \\\"America/New_York\\\", \\\"timezone_abbreviation\\\": \\\"EDT\\\", \\\"elevation\\\": 12.0, \\\"current_weather_units\\\": {\\\"time\\\": \\\"iso8601\\\", \\\"interval\\\": \\\"seconds\\\", \\\"temperature\\\": \\\"\\\\u00b0C\\\", \\\"windspeed\\\": \\\"km/h\\\", \\\"winddirection\\\": \\\"\\\\u00b0\\\", \\\"is_day\\\": \\\"\\\", \\\"weathercode\\\": \\\"wmo code\\\"}, \\\"current_weather\\\": {\\\"time\\\": \\\"2024-05-16T20:30\\\", \\\"interval\\\": 900, \\\"temperature\\\": 21.9, \\\"windspeed\\\": 7.2, \\\"winddirection\\\": 18, \\\"is_day\\\": 0, \\\"weathercode\\\": 0}, \\\"daily_units\\\": {\\\"time\\\": \\\"iso8601\\\", \\\"temperature_2m_max\\\": \\\"\\\\u00b0C\\\", \\\"temperature_2m_min\\\": \\\"\\\\u00b0C\\\"}, \\\"daily\\\": {\\\"time\\\": [\\\"2024-05-16\\\", \\\"2024-05-17\\\", \\\"2024-05-18\\\", \\\"2024-05-19\\\", \\\"2024-05-20\\\", \\\"2024-05-21\\\", \\\"2024-05-22\\\"], \\\"temperature_2m_max\\\": [26.7, 25.5, 18.2, 15.5, 21.8, 25.0, 30.5], \\\"temperature_2m_min\\\": [13.8, 15.9, 14.0, 12.9, 11.3, 11.1, 13.4]}}\"\n",
            "}\n",
            "{\n",
            "    \"role\": \"assistant\",\n",
            "    \"content\": \"\\ud604\\uc7ac \\uc704\\uce58\\uc758 \\ub0a0\\uc528 \\uc815\\ubcf4\\uc785\\ub2c8\\ub2e4.\\n\\n- \\ud604\\uc7ac \\uc2dc\\uac04: 2024\\ub144 5\\uc6d4 16\\uc77c 20\\uc2dc 30\\ubd84\\n- \\uae30\\uc628: 21.9\\u00b0C\\n- \\ubc14\\ub78c \\uc18d\\ub3c4: 7.2km/h\\n- \\ubc14\\ub78c \\ubc29\\ud5a5: 18\\u00b0\\n\\n\\uc77c\\uc77c \\ub0a0\\uc528 \\uc608\\ubcf4:\\n- 5\\uc6d4 17\\uc77c \\ucd5c\\uace0 \\uae30\\uc628: 25.5\\u00b0C, \\ucd5c\\uc800 \\uae30\\uc628: 15.9\\u00b0C\\n- 5\\uc6d4 18\\uc77c \\ucd5c\\uace0 \\uae30\\uc628: 18.2\\u00b0C, \\ucd5c\\uc800 \\uae30\\uc628: 14.0\\u00b0C\\n- 5\\uc6d4 19\\uc77c \\ucd5c\\uace0 \\uae30\\uc628: 15.5\\u00b0C, \\ucd5c\\uc800 \\uae30\\uc628: 12.9\\u00b0C\\n- 5\\uc6d4 20\\uc77c \\ucd5c\\uace0 \\uae30\\uc628: 21.8\\u00b0C, \\ucd5c\\uc800 \\uae30\\uc628: 11.3\\u00b0C\\n- 5\\uc6d4 21\\uc77c \\ucd5c\\uace0 \\uae30\\uc628: 25.0\\u00b0C, \\ucd5c\\uc800 \\uae30\\uc628: 11.1\\u00b0C\\n- 5\\uc6d4 22\\uc77c \\ucd5c\\uace0 \\uae30\\uc628: 30.5\\u00b0C, \\ucd5c\\uc800 \\uae30\\uc628: 13.4\\u00b0C\\n\\n\\ub354 \\uc790\\uc138\\ud55c \\uc815\\ubcf4\\ub97c \\uc6d0\\ud558\\uc2dc\\uba74 \\uc54c\\ub824\\uc8fc\\uc138\\uc694!\"\n",
            "}\n",
            "현재 위치의 날씨 정보입니다.\n",
            "\n",
            "- 현재 시간: 2024년 5월 16일 20시 30분\n",
            "- 기온: 21.9°C\n",
            "- 바람 속도: 7.2km/h\n",
            "- 바람 방향: 18°\n",
            "\n",
            "일일 날씨 예보:\n",
            "- 5월 17일 최고 기온: 25.5°C, 최저 기온: 15.9°C\n",
            "- 5월 18일 최고 기온: 18.2°C, 최저 기온: 14.0°C\n",
            "- 5월 19일 최고 기온: 15.5°C, 최저 기온: 12.9°C\n",
            "- 5월 20일 최고 기온: 21.8°C, 최저 기온: 11.3°C\n",
            "- 5월 21일 최고 기온: 25.0°C, 최저 기온: 11.1°C\n",
            "- 5월 22일 최고 기온: 30.5°C, 최저 기온: 13.4°C\n",
            "\n",
            "더 자세한 정보를 원하시면 알려주세요!\n"
          ]
        }
      ]
    },
    {
      "cell_type": "code",
      "source": [
        "print(openai_llm(\"삼성전자 주가는?\", []))"
      ],
      "metadata": {
        "colab": {
          "base_uri": "https://localhost:8080/"
        },
        "id": "pwnRnL2prNEW",
        "outputId": "6b64e0d8-2f1c-4285-921d-6e0127dd0490"
      },
      "execution_count": null,
      "outputs": [
        {
          "output_type": "stream",
          "name": "stdout",
          "text": [
            "{\n",
            "    \"role\": \"assistant\",\n",
            "    \"content\": null,\n",
            "    \"function_call\": {\n",
            "        \"name\": \"get_stock_price_info\",\n",
            "        \"arguments\": \"{\\n  \\\"stock_symbol\\\": \\\"005930.KS\\\"\\n}\"\n",
            "    }\n",
            "}\n",
            "005930.KS\n",
            "{\n",
            "    \"role\": \"function\",\n",
            "    \"name\": \"get_stock_price_info\",\n",
            "    \"content\": \"{\\\"currentPrice\\\": 78500.0, \\\"previousClose\\\": 78200.0, \\\"open\\\": 78600.0, \\\"dayHigh\\\": 78800.0, \\\"dayLow\\\": 78200.0, \\\"volume\\\": 2718321, \\\"marketCap\\\": 522072904171520}\"\n",
            "}\n",
            "{\n",
            "    \"role\": \"assistant\",\n",
            "    \"content\": \"\\uc0bc\\uc131\\uc804\\uc790\\uc758 \\ud604\\uc7ac \\uc8fc\\uac00\\ub294 78,500\\uc6d0\\uc785\\ub2c8\\ub2e4. \\uc804\\uc77c \\uc885\\uac00\\ub294 78,200\\uc6d0\\uc774\\uba70, \\uc2dc\\uac00\\ub294 78,600\\uc6d0\\uc785\\ub2c8\\ub2e4. \\ucd5c\\uace0\\uac00\\ub294 78,800\\uc6d0\\uc774\\uace0, \\ucd5c\\uc800\\uac00\\ub294 78,200\\uc6d0\\uc785\\ub2c8\\ub2e4. \\uac70\\ub798\\ub7c9\\uc740 2,718,321\\uc8fc\\uc774\\uba70, \\uc2dc\\uac00\\ucd1d\\uc561\\uc740 522,072,904,171,520\\uc6d0\\uc785\\ub2c8\\ub2e4.\"\n",
            "}\n",
            "삼성전자의 현재 주가는 78,500원입니다. 전일 종가는 78,200원이며, 시가는 78,600원입니다. 최고가는 78,800원이고, 최저가는 78,200원입니다. 거래량은 2,718,321주이며, 시가총액은 522,072,904,171,520원입니다.\n"
          ]
        }
      ]
    },
    {
      "cell_type": "code",
      "execution_count": null,
      "metadata": {
        "id": "y5fxQnd87y71",
        "colab": {
          "base_uri": "https://localhost:8080/"
        },
        "outputId": "4dd21c58-b351-4d9a-f93c-0991dd333500"
      },
      "outputs": [
        {
          "name": "stdout",
          "output_type": "stream",
          "text": [
            "USER > 서울의 날씨는?\n",
            "{\n",
            "    \"role\": \"assistant\",\n",
            "    \"content\": null,\n",
            "    \"function_call\": {\n",
            "        \"name\": \"get_current_weather\",\n",
            "        \"arguments\": \"{\\n  \\\"latitude\\\": \\\"37.5665\\\",\\n  \\\"longitude\\\": \\\"126.9780\\\"\\n}\"\n",
            "    }\n",
            "}\n",
            "{\n",
            "    \"role\": \"function\",\n",
            "    \"name\": \"get_current_weather\",\n",
            "    \"content\": \"{\\\"latitude\\\": 37.55, \\\"longitude\\\": 127.0, \\\"generationtime_ms\\\": 0.08296966552734375, \\\"utc_offset_seconds\\\": 32400, \\\"timezone\\\": \\\"Asia/Seoul\\\", \\\"timezone_abbreviation\\\": \\\"KST\\\", \\\"elevation\\\": 34.0, \\\"current_weather_units\\\": {\\\"time\\\": \\\"iso8601\\\", \\\"interval\\\": \\\"seconds\\\", \\\"temperature\\\": \\\"\\\\u00b0C\\\", \\\"windspeed\\\": \\\"km/h\\\", \\\"winddirection\\\": \\\"\\\\u00b0\\\", \\\"is_day\\\": \\\"\\\", \\\"weathercode\\\": \\\"wmo code\\\"}, \\\"current_weather\\\": {\\\"time\\\": \\\"2024-05-17T09:30\\\", \\\"interval\\\": 900, \\\"temperature\\\": 17.0, \\\"windspeed\\\": 3.6, \\\"winddirection\\\": 174, \\\"is_day\\\": 1, \\\"weathercode\\\": 1}, \\\"daily_units\\\": {\\\"time\\\": \\\"iso8601\\\", \\\"temperature_2m_max\\\": \\\"\\\\u00b0C\\\", \\\"temperature_2m_min\\\": \\\"\\\\u00b0C\\\"}, \\\"daily\\\": {\\\"time\\\": [\\\"2024-05-17\\\", \\\"2024-05-18\\\", \\\"2024-05-19\\\", \\\"2024-05-20\\\", \\\"2024-05-21\\\", \\\"2024-05-22\\\", \\\"2024-05-23\\\"], \\\"temperature_2m_max\\\": [23.1, 24.7, 25.5, 25.9, 25.9, 27.5, 26.0], \\\"temperature_2m_min\\\": [9.6, 13.2, 14.4, 13.5, 15.2, 14.6, 13.3]}}\"\n",
            "}\n",
            "{\n",
            "    \"role\": \"assistant\",\n",
            "    \"content\": \"\\uc11c\\uc6b8\\uc758 \\ud604\\uc7ac \\ub0a0\\uc528\\ub294 17\\ub3c4\\uc785\\ub2c8\\ub2e4. \\ub0a0\\uc528\\ub294 \\ub9d1\\uace0 \\ubc14\\ub78c \\uc18d\\ub3c4\\ub294 3.6km/h\\uc774\\uba70 \\ud48d\\ud5a5\\uc740 174\\ub3c4\\uc785\\ub2c8\\ub2e4.\"\n",
            "}\n",
            " A I > 서울의 현재 날씨는 17도입니다. 날씨는 맑고 바람 속도는 3.6km/h이며 풍향은 174도입니다.\n",
            "USER > 현재 위치의 날씨는?\n",
            "{\n",
            "    \"role\": \"assistant\",\n",
            "    \"content\": null,\n",
            "    \"function_call\": {\n",
            "        \"name\": \"get_current_location\",\n",
            "        \"arguments\": \"{}\"\n",
            "    }\n",
            "}\n",
            "{\n",
            "    \"role\": \"function\",\n",
            "    \"name\": \"get_current_location\",\n",
            "    \"content\": \"{\\\"ip\\\": \\\"34.85.190.148\\\", \\\"hostname\\\": \\\"148.190.85.34.bc.googleusercontent.com\\\", \\\"city\\\": \\\"Washington\\\", \\\"region\\\": \\\"Washington, D.C.\\\", \\\"country\\\": \\\"US\\\", \\\"loc\\\": \\\"38.8951,-77.0364\\\", \\\"org\\\": \\\"AS396982 Google LLC\\\", \\\"postal\\\": \\\"20004\\\", \\\"timezone\\\": \\\"America/New_York\\\", \\\"readme\\\": \\\"https://ipinfo.io/missingauth\\\"}\"\n",
            "}\n",
            "{\n",
            "    \"role\": \"assistant\",\n",
            "    \"content\": null,\n",
            "    \"function_call\": {\n",
            "        \"name\": \"get_current_weather\",\n",
            "        \"arguments\": \"{\\n  \\\"latitude\\\": \\\"38.8951\\\",\\n  \\\"longitude\\\": \\\"-77.0364\\\"\\n}\"\n",
            "    }\n",
            "}\n",
            "{\n",
            "    \"role\": \"function\",\n",
            "    \"name\": \"get_current_weather\",\n",
            "    \"content\": \"{\\\"latitude\\\": 38.890526, \\\"longitude\\\": -77.02716, \\\"generationtime_ms\\\": 0.10895729064941406, \\\"utc_offset_seconds\\\": -14400, \\\"timezone\\\": \\\"America/New_York\\\", \\\"timezone_abbreviation\\\": \\\"EDT\\\", \\\"elevation\\\": 12.0, \\\"current_weather_units\\\": {\\\"time\\\": \\\"iso8601\\\", \\\"interval\\\": \\\"seconds\\\", \\\"temperature\\\": \\\"\\\\u00b0C\\\", \\\"windspeed\\\": \\\"km/h\\\", \\\"winddirection\\\": \\\"\\\\u00b0\\\", \\\"is_day\\\": \\\"\\\", \\\"weathercode\\\": \\\"wmo code\\\"}, \\\"current_weather\\\": {\\\"time\\\": \\\"2024-05-16T20:30\\\", \\\"interval\\\": 900, \\\"temperature\\\": 21.9, \\\"windspeed\\\": 7.2, \\\"winddirection\\\": 18, \\\"is_day\\\": 0, \\\"weathercode\\\": 0}, \\\"daily_units\\\": {\\\"time\\\": \\\"iso8601\\\", \\\"temperature_2m_max\\\": \\\"\\\\u00b0C\\\", \\\"temperature_2m_min\\\": \\\"\\\\u00b0C\\\"}, \\\"daily\\\": {\\\"time\\\": [\\\"2024-05-16\\\", \\\"2024-05-17\\\", \\\"2024-05-18\\\", \\\"2024-05-19\\\", \\\"2024-05-20\\\", \\\"2024-05-21\\\", \\\"2024-05-22\\\"], \\\"temperature_2m_max\\\": [26.7, 25.5, 18.2, 15.5, 21.8, 25.0, 30.5], \\\"temperature_2m_min\\\": [13.8, 15.9, 14.0, 12.9, 11.3, 11.1, 13.4]}}\"\n",
            "}\n",
            "{\n",
            "    \"role\": \"assistant\",\n",
            "    \"content\": \"\\ud604\\uc7ac \\uc704\\uce58\\uc758 \\ub0a0\\uc528\\ub294 21.9\\ub3c4\\uc785\\ub2c8\\ub2e4. \\ub0a0\\uc528\\ub294 \\ub9d1\\uace0 \\ubc14\\ub78c \\uc18d\\ub3c4\\ub294 7.2km/h\\uc774\\uba70 \\ud48d\\ud5a5\\uc740 18\\ub3c4\\uc785\\ub2c8\\ub2e4.\"\n",
            "}\n",
            " A I > 현재 위치의 날씨는 21.9도입니다. 날씨는 맑고 바람 속도는 7.2km/h이며 풍향은 18도입니다.\n",
            "USER > 네이버의 주가는?\n",
            "{\n",
            "    \"role\": \"assistant\",\n",
            "    \"content\": null,\n",
            "    \"function_call\": {\n",
            "        \"name\": \"get_stock_price_info\",\n",
            "        \"arguments\": \"{\\n  \\\"stock_symbol\\\": \\\"035420.KS\\\"\\n}\"\n",
            "    }\n",
            "}\n",
            "035420.KS\n",
            "{\n",
            "    \"role\": \"function\",\n",
            "    \"name\": \"get_stock_price_info\",\n",
            "    \"content\": \"{\\\"currentPrice\\\": 188000.0, \\\"previousClose\\\": 188500.0, \\\"open\\\": 188600.0, \\\"dayHigh\\\": 189800.0, \\\"dayLow\\\": 187600.0, \\\"volume\\\": 61788, \\\"marketCap\\\": 28384616775680}\"\n",
            "}\n",
            "{\n",
            "    \"role\": \"assistant\",\n",
            "    \"content\": \"\\ub124\\uc774\\ubc84\\uc758 \\ud604\\uc7ac \\uc8fc\\uac00\\ub294 188,000\\uc6d0\\uc785\\ub2c8\\ub2e4. \\uc804\\uc77c \\uc885\\uac00\\ub294 188,500\\uc6d0\\uc774\\uace0, \\uc2dc\\uac00\\ub294 188,600\\uc6d0\\uc774\\uba70, \\uace0\\uac00\\ub294 189,800\\uc6d0\\uc774\\uace0, \\uc800\\uac00\\ub294 187,600\\uc6d0\\uc785\\ub2c8\\ub2e4. \\uac70\\ub798\\ub7c9\\uc740 61,788\\uc8fc\\uc774\\uba70, \\uc2dc\\uac00\\ucd1d\\uc561\\uc740 28,384,616,775,680\\uc6d0\\uc785\\ub2c8\\ub2e4.\"\n",
            "}\n",
            " A I > 네이버의 현재 주가는 188,000원입니다. 전일 종가는 188,500원이고, 시가는 188,600원이며, 고가는 189,800원이고, 저가는 187,600원입니다. 거래량은 61,788주이며, 시가총액은 28,384,616,775,680원입니다.\n",
            "USER > quit\n"
          ]
        }
      ],
      "source": [
        "def chat_with_user(user_message, chat_history):\n",
        "    ai_message = openai_llm(user_message, chat_history)\n",
        "    return ai_message\n",
        "\n",
        "chat_history = []\n",
        "\n",
        "while True:\n",
        "    user_message = input(\"USER > \")\n",
        "    if user_message.lower() == \"quit\":\n",
        "        break\n",
        "    ai_message = chat_with_user(user_message, chat_history)\n",
        "    print(f\" A I > {ai_message}\")"
      ]
    },
    {
      "cell_type": "code",
      "source": [],
      "metadata": {
        "id": "PMb4YUuxpjFg"
      },
      "execution_count": null,
      "outputs": []
    }
  ],
  "metadata": {
    "colab": {
      "provenance": [],
      "include_colab_link": true
    },
    "kernelspec": {
      "display_name": "Python 3",
      "name": "python3"
    },
    "language_info": {
      "name": "python"
    }
  },
  "nbformat": 4,
  "nbformat_minor": 0
}