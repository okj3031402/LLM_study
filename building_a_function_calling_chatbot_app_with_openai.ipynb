{
  "cells": [
    {
      "cell_type": "markdown",
      "metadata": {
        "id": "view-in-github",
        "colab_type": "text"
      },
      "source": [
        "<a href=\"https://colab.research.google.com/github/okj3031402/LLM_study/blob/main/building_a_function_calling_chatbot_app_with_openai.ipynb\" target=\"_parent\"><img src=\"https://colab.research.google.com/assets/colab-badge.svg\" alt=\"Open In Colab\"/></a>"
      ]
    },
    {
      "cell_type": "code",
      "execution_count": null,
      "metadata": {
        "colab": {
          "base_uri": "https://localhost:8080/"
        },
        "id": "K4D8RN2U0F4x",
        "outputId": "0938dc4c-b749-4af8-d4d1-ae6e5d227990"
      },
      "outputs": [
        {
          "output_type": "stream",
          "name": "stdout",
          "text": [
            "Collecting openai==0.28\n",
            "  Downloading openai-0.28.0-py3-none-any.whl (76 kB)\n",
            "\u001b[?25l     \u001b[90m━━━━━━━━━━━━━━━━━━━━━━━━━━━━━━━━━━━━━━━━\u001b[0m \u001b[32m0.0/76.5 kB\u001b[0m \u001b[31m?\u001b[0m eta \u001b[36m-:--:--\u001b[0m\r\u001b[2K     \u001b[91m━━━━━━━━━━━━━━━━━━━━━\u001b[0m\u001b[90m╺\u001b[0m\u001b[90m━━━━━━━━━━━━━━━━━━\u001b[0m \u001b[32m41.0/76.5 kB\u001b[0m \u001b[31m1.3 MB/s\u001b[0m eta \u001b[36m0:00:01\u001b[0m\r\u001b[2K     \u001b[90m━━━━━━━━━━━━━━━━━━━━━━━━━━━━━━━━━━━━━━━━\u001b[0m \u001b[32m76.5/76.5 kB\u001b[0m \u001b[31m1.0 MB/s\u001b[0m eta \u001b[36m0:00:00\u001b[0m\n",
            "\u001b[?25hRequirement already satisfied: requests>=2.20 in /usr/local/lib/python3.10/dist-packages (from openai==0.28) (2.31.0)\n",
            "Requirement already satisfied: tqdm in /usr/local/lib/python3.10/dist-packages (from openai==0.28) (4.66.4)\n",
            "Requirement already satisfied: aiohttp in /usr/local/lib/python3.10/dist-packages (from openai==0.28) (3.9.5)\n",
            "Requirement already satisfied: charset-normalizer<4,>=2 in /usr/local/lib/python3.10/dist-packages (from requests>=2.20->openai==0.28) (3.3.2)\n",
            "Requirement already satisfied: idna<4,>=2.5 in /usr/local/lib/python3.10/dist-packages (from requests>=2.20->openai==0.28) (3.7)\n",
            "Requirement already satisfied: urllib3<3,>=1.21.1 in /usr/local/lib/python3.10/dist-packages (from requests>=2.20->openai==0.28) (2.0.7)\n",
            "Requirement already satisfied: certifi>=2017.4.17 in /usr/local/lib/python3.10/dist-packages (from requests>=2.20->openai==0.28) (2024.2.2)\n",
            "Requirement already satisfied: aiosignal>=1.1.2 in /usr/local/lib/python3.10/dist-packages (from aiohttp->openai==0.28) (1.3.1)\n",
            "Requirement already satisfied: attrs>=17.3.0 in /usr/local/lib/python3.10/dist-packages (from aiohttp->openai==0.28) (23.2.0)\n",
            "Requirement already satisfied: frozenlist>=1.1.1 in /usr/local/lib/python3.10/dist-packages (from aiohttp->openai==0.28) (1.4.1)\n",
            "Requirement already satisfied: multidict<7.0,>=4.5 in /usr/local/lib/python3.10/dist-packages (from aiohttp->openai==0.28) (6.0.5)\n",
            "Requirement already satisfied: yarl<2.0,>=1.0 in /usr/local/lib/python3.10/dist-packages (from aiohttp->openai==0.28) (1.9.4)\n",
            "Requirement already satisfied: async-timeout<5.0,>=4.0 in /usr/local/lib/python3.10/dist-packages (from aiohttp->openai==0.28) (4.0.3)\n",
            "Installing collected packages: openai\n",
            "Successfully installed openai-0.28.0\n"
          ]
        }
      ],
      "source": [
        "!pip install openai==0.28 # openai 라이브러리를 설치합니다."
      ]
    },
    {
      "cell_type": "code",
      "execution_count": null,
      "metadata": {
        "id": "vf_9nvKw0Hci"
      },
      "outputs": [],
      "source": [
        "import openai\n",
        "from google.colab import userdata\n",
        "\n",
        "openai.api_key = userdata.get('OPENAI_API_KEY')"
      ]
    },
    {
      "cell_type": "code",
      "execution_count": null,
      "metadata": {
        "id": "6RZc9OIPBJJs"
      },
      "outputs": [],
      "source": [
        "import json\n",
        "\n",
        "# 함수 정의\n",
        "def get_current_weather(date_time, location, unit=\"celsius\"):\n",
        "    \"\"\"Get the current weather in a given location\"\"\"\n",
        "    weather_info = {\n",
        "        \"date_time\" : date_time,\n",
        "        \"location\": location,\n",
        "        \"temperature\": \"24\",\n",
        "        \"unit\": unit,\n",
        "        \"forecast\": [\"sunny\", \"windy\"],\n",
        "    }\n",
        "    return json.dumps(weather_info)\n",
        "\n",
        "# 함수 설명 for LLM\n",
        "functions = [\n",
        "    {\n",
        "        \"name\": \"get_current_weather\", # 함수 이름이 명확해야 합니다.\n",
        "        \"description\": \"Get the current weather in a given location\", # 설명도 상세하게 작성해야 합니다.\n",
        "        \"parameters\": {\n",
        "            \"type\": \"object\",\n",
        "            \"properties\": {\n",
        "                \"date_time\" : {\n",
        "                    \"type\": \"string\", # 타입\n",
        "                    \"description\": \"date and time\", # 설명\n",
        "                },\n",
        "                \"location\": {\n",
        "                    \"type\": \"string\", # 타입\n",
        "                    \"description\": \"The city and state, e.g. San Francisco, CA\", # 설명\n",
        "                },\n",
        "                \"unit\": {\"type\": \"string\", \"enum\": [\"celsius\", \"fahrenheit\"]},\n",
        "            },\n",
        "            \"required\": [\"date_time\", \"location\"], # 필수 항목\n",
        "        },\n",
        "    }\n",
        "]"
      ]
    },
    {
      "cell_type": "code",
      "source": [
        "# 함수 정의와 함수 설명을 매칭하기 위한 용도\n",
        "\n",
        "available_functions = {\n",
        "    \"get_current_weather\": get_current_weather,\n",
        "}  # only one function in this example, but you can have multiple"
      ],
      "metadata": {
        "id": "a3DiJSsjnXLt"
      },
      "execution_count": null,
      "outputs": []
    },
    {
      "cell_type": "code",
      "execution_count": null,
      "metadata": {
        "id": "19-RZf43KMdE"
      },
      "outputs": [],
      "source": [
        "def llm(input_text, chat_history):\n",
        "\n",
        "    if len(chat_history) == 0:\n",
        "        chat_history.append({\"role\": \"system\", \"content\": \"Act like a friend who is kind and highly empathetic. Respond to the user's input in a friendly and conversational manner in Korean\"})\n",
        "\n",
        "    chat_history.append({\"role\": \"user\", \"content\": input_text})\n",
        "\n",
        "    print(chat_history)\n",
        "\n",
        "    response = openai.ChatCompletion.create(model=\"gpt-3.5-turbo-0613\",\n",
        "                                              messages = chat_history,\n",
        "                                              functions = functions, # 편지봉투에 편지지 뿐만 아니라 함수 설명서도 동봉하자\n",
        "                                              function_call = \"auto\",  # auto is default, but we'll be explicit\n",
        "                                              )\n",
        "\n",
        "    response_message = response[\"choices\"][0][\"message\"]\n",
        "\n",
        "    print(\"###\")\n",
        "    print(response_message)\n",
        "    print(\"###\")\n",
        "    # function_call vs contents\n",
        "\n",
        "    # GPT가 호출해야 할 함수를 특정했다면, 응답 편지봉투에 \"function_call\" 키 정보가 포함되어 응답이 작성됩니다.\n",
        "    if response_message.get(\"function_call\"):\n",
        "        # Step 3: call the function\n",
        "        # Note: the JSON response may not always be valid; be sure to handle errors\n",
        "\n",
        "        # 함수 이름 가져오기\n",
        "        function_name = response_message[\"function_call\"][\"name\"]\n",
        "\n",
        "        # 실제 호출 가능한 함수\n",
        "        function_to_call = available_functions[function_name]\n",
        "\n",
        "        # 함수 인자 가져오기\n",
        "        function_args = json.loads(response_message[\"function_call\"][\"arguments\"])\n",
        "\n",
        "        # AI가 어떤 함수를 선택했고, 어떤 인자를 입력했는 지 chat_history에 추가합니다.\n",
        "        chat_history.append(response_message)  # extend conversation with assistant's reply\n",
        "\n",
        "        # 실제 함수를 호출해서 그 결과를 얻습니다.\n",
        "        function_response = function_to_call(**function_args)\n",
        "\n",
        "        # role function에 함수 호출 결과를 넘긴다.\n",
        "\n",
        "        # Step 4: send the info on the function call and function response to GPT\n",
        "        chat_history.append(\n",
        "            {\n",
        "                \"role\": \"function\", # 역할을 function으로 지정한다.\n",
        "                \"name\": function_name,\n",
        "                \"content\": function_response,\n",
        "            }\n",
        "        )\n",
        "\n",
        "        # extend conversation with function response\n",
        "        # 함수 호출 결과를 사용자 지시에 맞게 잘 설명해주는 용도로 호출\n",
        "        second_response = openai.ChatCompletion.create(\n",
        "            model = \"gpt-3.5-turbo-0613\",\n",
        "            messages = chat_history,\n",
        "        )\n",
        "\n",
        "        output = second_response.choices[0].message.content\n",
        "    else:\n",
        "        output = response.choices[0].message.content\n",
        "\n",
        "    chat_history.append({\"role\": \"assistant\", \"content\": output})\n",
        "\n",
        "    return output"
      ]
    },
    {
      "cell_type": "code",
      "execution_count": null,
      "metadata": {
        "colab": {
          "base_uri": "https://localhost:8080/"
        },
        "id": "y5fxQnd87y71",
        "outputId": "99390c39-cce7-40d5-f3dd-8237c1f05b89"
      },
      "outputs": [
        {
          "name": "stdout",
          "output_type": "stream",
          "text": [
            "USER > weather?\n",
            "[{'role': 'system', 'content': \"Act like a friend who is kind and highly empathetic. Respond to the user's input in a friendly and conversational manner in Korean\"}, {'role': 'user', 'content': 'weather?'}]\n",
            "###\n",
            "{\n",
            "  \"role\": \"assistant\",\n",
            "  \"content\": \"\\uc548\\ub155\\ud558\\uc138\\uc694! \\ud604\\uc7ac \\uc5b4\\ub5a4 \\ub3c4\\uc2dc\\uc758 \\ub0a0\\uc528\\uc5d0 \\uad00\\uc2ec\\uc774 \\uc788\\uc73c\\uc2e0\\uac00\\uc694? \\ub3c4\\uc640\\ub4dc\\ub9b4\\uac8c\\uc694!\"\n",
            "}\n",
            "###\n",
            " A I > 안녕하세요! 현재 어떤 도시의 날씨에 관심이 있으신가요? 도와드릴게요!\n",
            "USER > 시애틀\n",
            "[{'role': 'system', 'content': \"Act like a friend who is kind and highly empathetic. Respond to the user's input in a friendly and conversational manner in Korean\"}, {'role': 'user', 'content': 'weather?'}, {'role': 'assistant', 'content': '안녕하세요! 현재 어떤 도시의 날씨에 관심이 있으신가요? 도와드릴게요!'}, {'role': 'user', 'content': '시애틀'}]\n",
            "###\n",
            "{\n",
            "  \"role\": \"assistant\",\n",
            "  \"content\": null,\n",
            "  \"function_call\": {\n",
            "    \"name\": \"get_current_weather\",\n",
            "    \"arguments\": \"{\\n  \\\"date_time\\\": \\\"now\\\",\\n  \\\"location\\\": \\\"Seattle, WA\\\",\\n  \\\"unit\\\": \\\"celsius\\\"\\n}\"\n",
            "  }\n",
            "}\n",
            "###\n",
            " A I > 시애틀의 현재 날씨는 24도인데요. 날씨는 맑고 바람이 조금 분다고 예보되고 있어요. 시애틀에 계시는분은 지금 좋은 날씨를 즐기실 수 있겠네요! 혹시 날씨에 따라 할 일이 있으신가요?\n",
            "USER > quit\n"
          ]
        }
      ],
      "source": [
        "def chat_with_user(user_message, chat_history):\n",
        "    ai_message = llm(user_message, chat_history)\n",
        "    return ai_message\n",
        "\n",
        "chat_history = []\n",
        "\n",
        "while True:\n",
        "    user_message = input(\"USER > \")\n",
        "    if user_message.lower() == \"quit\":\n",
        "        break\n",
        "    ai_message = chat_with_user(user_message, chat_history)\n",
        "    print(f\" A I > {ai_message}\")"
      ]
    },
    {
      "cell_type": "code",
      "source": [],
      "metadata": {
        "id": "-YjfrKfj8x-z"
      },
      "execution_count": null,
      "outputs": []
    }
  ],
  "metadata": {
    "colab": {
      "provenance": [],
      "include_colab_link": true
    },
    "kernelspec": {
      "display_name": "Python 3",
      "name": "python3"
    },
    "language_info": {
      "name": "python"
    }
  },
  "nbformat": 4,
  "nbformat_minor": 0
}