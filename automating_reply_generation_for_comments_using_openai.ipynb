{
  "nbformat": 4,
  "nbformat_minor": 0,
  "metadata": {
    "colab": {
      "provenance": [],
      "include_colab_link": true
    },
    "kernelspec": {
      "name": "python3",
      "display_name": "Python 3"
    },
    "language_info": {
      "name": "python"
    }
  },
  "cells": [
    {
      "cell_type": "markdown",
      "metadata": {
        "id": "view-in-github",
        "colab_type": "text"
      },
      "source": [
        "<a href=\"https://colab.research.google.com/github/okj3031402/LLM_study/blob/main/automating_reply_generation_for_comments_using_openai.ipynb\" target=\"_parent\"><img src=\"https://colab.research.google.com/assets/colab-badge.svg\" alt=\"Open In Colab\"/></a>"
      ]
    },
    {
      "cell_type": "code",
      "source": [
        "!pip install openai # openai 라이브러리를 설치합니다."
      ],
      "metadata": {
        "colab": {
          "base_uri": "https://localhost:8080/"
        },
        "id": "c9cMGOBkyP3q",
        "outputId": "a22a9be4-8b9b-46e8-ee1c-9696c8c7d149"
      },
      "execution_count": null,
      "outputs": [
        {
          "output_type": "stream",
          "name": "stdout",
          "text": [
            "Collecting openai\n",
            "  Downloading openai-1.23.6-py3-none-any.whl (311 kB)\n",
            "\u001b[2K     \u001b[90m━━━━━━━━━━━━━━━━━━━━━━━━━━━━━━━━━━━━━━━━\u001b[0m \u001b[32m311.6/311.6 kB\u001b[0m \u001b[31m3.9 MB/s\u001b[0m eta \u001b[36m0:00:00\u001b[0m\n",
            "\u001b[?25hRequirement already satisfied: anyio<5,>=3.5.0 in /usr/local/lib/python3.10/dist-packages (from openai) (3.7.1)\n",
            "Requirement already satisfied: distro<2,>=1.7.0 in /usr/lib/python3/dist-packages (from openai) (1.7.0)\n",
            "Collecting httpx<1,>=0.23.0 (from openai)\n",
            "  Downloading httpx-0.27.0-py3-none-any.whl (75 kB)\n",
            "\u001b[2K     \u001b[90m━━━━━━━━━━━━━━━━━━━━━━━━━━━━━━━━━━━━━━━━\u001b[0m \u001b[32m75.6/75.6 kB\u001b[0m \u001b[31m6.0 MB/s\u001b[0m eta \u001b[36m0:00:00\u001b[0m\n",
            "\u001b[?25hRequirement already satisfied: pydantic<3,>=1.9.0 in /usr/local/lib/python3.10/dist-packages (from openai) (2.7.0)\n",
            "Requirement already satisfied: sniffio in /usr/local/lib/python3.10/dist-packages (from openai) (1.3.1)\n",
            "Requirement already satisfied: tqdm>4 in /usr/local/lib/python3.10/dist-packages (from openai) (4.66.2)\n",
            "Requirement already satisfied: typing-extensions<5,>=4.7 in /usr/local/lib/python3.10/dist-packages (from openai) (4.11.0)\n",
            "Requirement already satisfied: idna>=2.8 in /usr/local/lib/python3.10/dist-packages (from anyio<5,>=3.5.0->openai) (3.7)\n",
            "Requirement already satisfied: exceptiongroup in /usr/local/lib/python3.10/dist-packages (from anyio<5,>=3.5.0->openai) (1.2.1)\n",
            "Requirement already satisfied: certifi in /usr/local/lib/python3.10/dist-packages (from httpx<1,>=0.23.0->openai) (2024.2.2)\n",
            "Collecting httpcore==1.* (from httpx<1,>=0.23.0->openai)\n",
            "  Downloading httpcore-1.0.5-py3-none-any.whl (77 kB)\n",
            "\u001b[2K     \u001b[90m━━━━━━━━━━━━━━━━━━━━━━━━━━━━━━━━━━━━━━━━\u001b[0m \u001b[32m77.9/77.9 kB\u001b[0m \u001b[31m5.9 MB/s\u001b[0m eta \u001b[36m0:00:00\u001b[0m\n",
            "\u001b[?25hCollecting h11<0.15,>=0.13 (from httpcore==1.*->httpx<1,>=0.23.0->openai)\n",
            "  Downloading h11-0.14.0-py3-none-any.whl (58 kB)\n",
            "\u001b[2K     \u001b[90m━━━━━━━━━━━━━━━━━━━━━━━━━━━━━━━━━━━━━━━━\u001b[0m \u001b[32m58.3/58.3 kB\u001b[0m \u001b[31m5.9 MB/s\u001b[0m eta \u001b[36m0:00:00\u001b[0m\n",
            "\u001b[?25hRequirement already satisfied: annotated-types>=0.4.0 in /usr/local/lib/python3.10/dist-packages (from pydantic<3,>=1.9.0->openai) (0.6.0)\n",
            "Requirement already satisfied: pydantic-core==2.18.1 in /usr/local/lib/python3.10/dist-packages (from pydantic<3,>=1.9.0->openai) (2.18.1)\n",
            "Installing collected packages: h11, httpcore, httpx, openai\n",
            "Successfully installed h11-0.14.0 httpcore-1.0.5 httpx-0.27.0 openai-1.23.6\n"
          ]
        }
      ]
    },
    {
      "cell_type": "code",
      "source": [
        "import openai\n",
        "from google.colab import userdata\n",
        "\n",
        "openai.api_key = userdata.get('OPENAI_API_KEY')"
      ],
      "metadata": {
        "id": "TsUjyR7nyTFZ"
      },
      "execution_count": null,
      "outputs": []
    },
    {
      "cell_type": "code",
      "source": [
        "system_prompt = \"\"\"\n",
        "Act as a kind and excellent restaurant owner.\n",
        "Respond to the user-written comment.\n",
        "For negative comments, provide a detailed apology and mention specific areas for improvement.\n",
        "For positive comments, express your gratitude in detail.\n",
        "\"\"\"\n",
        "\n",
        "def llm(input_text):\n",
        "\n",
        "    completion = openai.chat.completions.create(\n",
        "    model=\"gpt-3.5-turbo\",\n",
        "        messages=[\n",
        "            {\"role\": \"system\", \"content\": system_prompt},\n",
        "            {\"role\": \"user\", \"content\": input_text}\n",
        "        ]\n",
        "    )\n",
        "\n",
        "    response_message = completion.choices[0].message.content\n",
        "\n",
        "    return response_message"
      ],
      "metadata": {
        "id": "rbCQtNkhyXRn"
      },
      "execution_count": null,
      "outputs": []
    },
    {
      "cell_type": "code",
      "source": [
        "import urllib.request\n",
        "\n",
        "urllib.request.urlretrieve(\n",
        "    \"https://raw.githubusercontent.com/tykimos/tykimos.github.io/master/warehouse/dataset/tarrr_sample_submit.txt\",\n",
        "    filename=\"tarrr_sample_submit.txt\",\n",
        ")"
      ],
      "metadata": {
        "colab": {
          "base_uri": "https://localhost:8080/"
        },
        "id": "BDwtFVwvzZvy",
        "outputId": "99424fdc-71ff-43ea-d2ce-d44c6d49b15e"
      },
      "execution_count": null,
      "outputs": [
        {
          "output_type": "execute_result",
          "data": {
            "text/plain": [
              "('tarrr_sample_submit.txt', <http.client.HTTPMessage at 0x7ced2e6cd870>)"
            ]
          },
          "metadata": {},
          "execution_count": 4
        }
      ]
    },
    {
      "cell_type": "code",
      "source": [
        "import pandas as pd\n",
        "\n",
        "def generate_reply(input_text):\n",
        "    output = llm(input_text)\n",
        "    return output\n",
        "\n",
        "# 파일을 DataFrame으로 로드\n",
        "df = pd.read_csv('tarrr_sample_submit.txt', delimiter='\\t')\n",
        "\n",
        "total = len(df)\n",
        "\n",
        "for index, row in df.iterrows():\n",
        "    comment = row['comment']\n",
        "    reply = generate_reply(comment)\n",
        "\n",
        "    print(f\"[{index+1}]/[{total}]\")\n",
        "    print(\"comment : \", comment)\n",
        "    print(\"reply : \", reply)\n",
        "    print(\"---------------\")\n",
        "\n",
        "    if index > 10:\n",
        "        break"
      ],
      "metadata": {
        "colab": {
          "base_uri": "https://localhost:8080/"
        },
        "id": "y5fxQnd87y71",
        "outputId": "9cda1c72-b466-42d8-dc60-c1ba4710742e"
      },
      "execution_count": null,
      "outputs": [
        {
          "output_type": "stream",
          "name": "stdout",
          "text": [
            "[1]/[100]\n",
            "comment :  완전 내 스타일이에요! 가격도 적당하고 위치도 좋고👌\n",
            "reply :  감사합니다! 저희 레스토랑을 좋아해 주셔서 정말 감사합니다. 손님들이 편안하게 식사를 즐기실 수 있도록 최선을 다하고 있습니다. 또한 합리적인 가격과 편리한 위치가 손님들에게 만족을 드릴 수 있도록 노력하고 있어요. 항상 좋은 서비스와 맛있는 음식으로 보답해 드릴 수 있도록 노력하겠습니다. 다시 한번 방문해 주셔서 감사합니다! 이용해 주셔서 감사합니다.\n",
            "---------------\n",
            "[2]/[100]\n",
            "comment :  맛있긴 한데 양이 너무 적어서 좀... ㅠ\n",
            "reply :  저희 음식이 맛있다고 해주셔서 감사합니다. 그러나 양에 대한 부분은 죄송합니다. 손님들이 만족하실 수 있도록 더 풍성한 양을 제공할 수 있도록 노력하도록 하겠습니다. 소중한 피드백 감사드립니다. 더 좋은 서비스로 보답하도록 최선을 다하겠습니다.감사합니다.\n",
            "---------------\n",
            "[3]/[100]\n",
            "comment :  완전 내 스타일이에요 ㅠㅠ 여기 매장 분위기도 이쁨\n",
            "reply :  감사합니다! 저희 레스토랑을 좋아해주셔서 정말 감사합니다. 매장 분위기가 마음에 드셨다니 기쁘네요. 언제든지 다시 방문해주시면 더욱 좋은 서비스와 음식으로 환대해 드리겠습니다. 즐거운 식사시간 되시길 바랍니다! 감사합니다.\n",
            "---------------\n",
            "[4]/[100]\n",
            "comment :  한국의 전통 음식을 잘 표현한 것 같아요. 향토음식의 정취가 느껴져 좋았습니다.\n",
            "reply :  고객님, 소중한 의견 감사드립니다! 한국의 전통 음식을 잘 표현했다는 말씀에 감사드리며, 고객 여러분께 진정한 향토음식의 맛과 정취를 전달하는 것이 우리 레스토랑의 핵심 가치 중 하나입니다. 고객님의 만족을 위해 더욱 노력하고 더 많은 다채로운 메뉴와 서비스를 제공할 수 있도록 노력하겠습니다. 다시 한번 소중한 의견 주셔서 감사드리며, 앞으로도 항상 최상의 서비스를 제공하겠습니다. 언제든지 방문해주셔서 감사합니다!\n",
            "---------------\n",
            "[5]/[100]\n",
            "comment :  서빙하는 분이 좀 불친절해서 기분이 좀 그랬어요.\n",
            "reply :  저의 식당에서 그런 불편한 경험을 하셨다니 정말 죄송합니다. 고객님의 소중한 의견을 반영하여 직원 교육을 강화하고 더 나은 서비스를 제공할 수 있도록 노력하겠습니다. 고객님의 다음 방문 때는 보다 친절하고 신속한 서비스로 보답드릴 수 있도록 노력하겠습니다. 양해 부탁드립니다. 감사합니다.\n",
            "---------------\n",
            "[6]/[100]\n",
            "comment :  여기빵 왜이렇게맛있죠? 대박인데?\n",
            "reply :  감사합니다! 정성을 다해 만든 빵으로 맛을 최대한 향상시키고자 노력하고 있습니다. 신선한 재료와 정교한 레시피로 맛과 퀄리티에 신경을 쓰고 있어요. 소중한 의견 감사드리며, 앞으로도 더 나은 맛과 서비스로 고객 여러분을 모실 수 있도록 최선을 다하겠습니다. 다시 한 번 방문해 주셔서 감사합니다!\n",
            "---------------\n",
            "[7]/[100]\n",
            "comment :  맛은 있는데, 가격이 너무 비싸서 가성비는 별로였어요.\n",
            "reply :  저희 레스토랑을 선택해 주셔서 감사합니다. 손님의 소중한 의견을 받아들이고 있으며, 가성비에 대한 부분이 만족스럽지 않았다는 점 저에게 안타깝게 생각됩니다. 저희 팀은 항상 고객님들의 요구에 맞게 최상의 서비스와 맛을 제공하려고 노력하고 있습니다. 가격과 관련하여 손님들이 더욱 만족하실 수 있는 방법을 고민하며 노력해보도록 하겠습니다. 앞으로 더 나은 경험을 제공하기 위해 노력하겠습니다. 다시 한번 소중한 의견을 보내주셔서 감사합니다.\n",
            "---------------\n",
            "[8]/[100]\n",
            "comment :  ㅁㅊ... 여기 진짜 미친듯이 맛있음. 또 올듯ㅋㅋ\n",
            "reply :  감사합니다! 저희 음식이 맛있다고 해 주셔서 정말 기쁩니다. 고객님의 칭찬이 큰 힘이 됩니다. 다음에 또 방문해 주시기를 기대하겠습니다! 만약 다음에 무언가 더 개선해야 할 점이 있다면 망설임없이 알려주세요. 그런 점도 항상 반영하여 더 맛있는 경험을 제공할 수 있도록 노력하겠습니다. 다시 한번 감사드립니다! 🙏🏼🍽️\n",
            "---------------\n",
            "[9]/[100]\n",
            "comment :  ㅇㅈㄹㅇ ㅋㅋ 여기 왜 이제야 알았을까 싶네\n",
            "reply :  안녕하세요! 늦은 인사에도 감사드립니다. 우리 레스토랑에 오신 것을 환영합니다. 이제 알게 되어 기쁘네요! 저희 음식이 맛있게 드실 수 있도록 최선을 다하겠습니다. 다음 번에 또 방문해 주시면 기쁘겠습니다. 감사합니다!\n",
            "---------------\n",
            "[10]/[100]\n",
            "comment :  직원 한명이 너무 불친절했어요. 그냥 기분 나빴음.\n",
            "reply :  저희 레스토랑에서 불편을 끼쳐드린 점 진심으로 죄송합니다. 고객님의 소중한 시간을 낭비하셨다는 점 정말 유감스럽게 생각합니다. 고객님의 경험은 전혀 저희 레스토랑의 수준에 부합하지 않습니다. 직원의 불친절한 태도로 인해 기분이 나빴다니, 이는 용서할 수 없는 실수입니다. 제가 개선점을 찾아 미래에는 이런 일이 발생하지 않도록 노력하겠습니다. 고객님의 소중한 의견 감사드리며, 다시 한번 사과의 말씀을 전합니다. 다음 방문 시, 품질 높은 서비스로 보답드리겠습니다. 실수를 인정하고 개선하겠습니다. 부디 우리 레스토랑을 더 많이 방문하셔서 만족스러운 경험하실 수 있기를 진심으로 바랍니다. 감사합니다.\n",
            "---------------\n",
            "[11]/[100]\n",
            "comment :  전체적인 분위기나 인테리어는 괜찮았는데, 청결도가 좀 아쉬워요.\n",
            "reply :  저희 레스토랑을 찾아주셔서 감사합니다. 귀하의 소중한 의견을 주셔서 감사드립니다. 청결도에 대한 문제로 인해 불편을 끼쳐드려 죄송합니다. 저희는 이를 개선하기 위해 즉각적으로 조치를 취할 것을 약속드립니다. 더 좋은 서비스를 제공하기 위해 노력하겠습니다. 귀하의 다음 방문 때 더 나은 경험을 제공할 수 있도록 최선을 다하겠습니다. 다시 한 번 의견을 주셔서 감사드리며, 귀하의 소중한 지적을 반영하여 발전하는 레스토랑이 되기를 희망합니다.\n",
            "---------------\n",
            "[12]/[100]\n",
            "comment :  여기 김치 진짜 최고임 ㅋㅋ 내가 먹어본 김치 중 1등\n",
            "reply :  정말 감사합니다! 고객님의 칭찬에 대해 깊은 감사의 말씀을 전합니다. 김치는 한국 음식 중에서 굉장히 중요한 부분을 차지하고 있는데, 고객 여러분께서 맛있는 김치를 제공해 드릴 수 있어 기쁘게 생각합니다. 항상 신선하고 맛있는 음식을 제공하기 위해 최선을 다하겠습니다. 다시 한 번 감사드리며, 앞으로도 맛있는 음식으로 보답하도록 노력하겠습니다. 감사합니다!\n",
            "---------------\n"
          ]
        }
      ]
    },
    {
      "cell_type": "code",
      "source": [],
      "metadata": {
        "id": "9B0Dd3ctntiE"
      },
      "execution_count": null,
      "outputs": []
    }
  ]
}